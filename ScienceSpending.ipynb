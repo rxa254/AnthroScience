{
 "cells": [
  {
   "cell_type": "markdown",
   "metadata": {},
   "source": [
    "# U.S. Federal Spending on R&D by Discipline\n",
    "* loads in data from a .txt file from AAAS: https://www.aaas.org/page/historical-trends-federal-rd\n",
    "* make a plot of $ v. time\n",
    "* Matplotlib builtin styles: https://tonysyu.github.io/raw_content/matplotlib-style-gallery/gallery.html"
   ]
  },
  {
   "cell_type": "code",
   "execution_count": null,
   "metadata": {
    "collapsed": false
   },
   "outputs": [],
   "source": [
    "from __future__ import division\n",
    "%matplotlib inline\n",
    "#import nds2\n",
    "import numpy as np\n",
    "import matplotlib.pyplot as plt\n",
    "plt.style.use('seaborn-talk')\n",
    "#import matplotlib.mlab as mlab\n",
    "#import scipy.signal as sig\n",
    "import scipy.constants as const\n",
    "\n",
    "import pandas as pd\n",
    "\n",
    "#from matplotlib import rc\n",
    "#rc('font',**{'family':'sans-serif','sans-serif':['Helvetica']})\n",
    "## for Palatino and other serif fonts use:\n",
    "plt.rcParams['font.family'] = 'Palatino'\n",
    "plt.rcParams['font.size'] = 18\n",
    "plt.rcParams['axes.labelsize'] = plt.rcParams['font.size']\n",
    "plt.rcParams['axes.titlesize'] = 1.5*plt.rcParams['font.size']\n",
    "plt.rcParams['legend.fontsize'] = plt.rcParams['font.size']\n",
    "plt.rcParams['xtick.labelsize'] = plt.rcParams['font.size']\n",
    "plt.rcParams['ytick.labelsize'] = plt.rcParams['font.size']\n",
    "#plt.rcParams['savefig.dpi'] = 2*plt.rcParams['savefig.dpi']\n",
    "#plt.rcParams['xtick.major.size'] = 3\n",
    "#plt.rcParams['xtick.minor.size'] = 3\n",
    "#plt.rcParams['xtick.major.width'] = 1\n",
    "#plt.rcParams['xtick.minor.width'] = 1\n",
    "#plt.rcParams['ytick.major.size'] = 3\n",
    "#plt.rcParams['ytick.minor.size'] = 3\n",
    "#plt.rcParams['ytick.major.width'] = 1\n",
    "#plt.rcParams['ytick.minor.width'] = 1\n",
    "plt.rcParams['legend.loc'] = 'best'\n",
    "#plt.rcParams['axes.linewidth'] = 1\n",
    "plt.rcParams['text.usetex'] = True"
   ]
  },
  {
   "cell_type": "code",
   "execution_count": null,
   "metadata": {
    "collapsed": false
   },
   "outputs": [],
   "source": [
    "fname = 'Data/FedResearch_by_Discipline.xlsx'\n",
    "# how to fix the date string so that it has 4 digits for the year?\n",
    "df = pd.read_excel(fname)\n",
    "#df = df.sort_values(by='Date')\n",
    "df.head()"
   ]
  },
  {
   "cell_type": "code",
   "execution_count": null,
   "metadata": {
    "collapsed": false
   },
   "outputs": [],
   "source": [
    "df.plot(x='Data', figsize=(12,7))\n",
    "#df.plot(y='Physical Science', x='Data')\n",
    "#plt.ylabel('Rupees per USD')\n",
    "plt.show()"
   ]
  },
  {
   "cell_type": "code",
   "execution_count": null,
   "metadata": {
    "collapsed": false
   },
   "outputs": [],
   "source": []
  },
  {
   "cell_type": "markdown",
   "metadata": {
    "collapsed": false
   },
   "source": [
    "    "
   ]
  },
  {
   "cell_type": "code",
   "execution_count": null,
   "metadata": {
    "collapsed": false
   },
   "outputs": [],
   "source": []
  },
  {
   "cell_type": "code",
   "execution_count": null,
   "metadata": {
    "collapsed": true
   },
   "outputs": [],
   "source": []
  }
 ],
 "metadata": {
  "anaconda-cloud": {},
  "kernelspec": {
   "display_name": "Python 2",
   "language": "python",
   "name": "python2"
  },
  "language_info": {
   "codemirror_mode": {
    "name": "ipython",
    "version": 2
   },
   "file_extension": ".py",
   "mimetype": "text/x-python",
   "name": "python",
   "nbconvert_exporter": "python",
   "pygments_lexer": "ipython2",
   "version": "2.7.13"
  }
 },
 "nbformat": 4,
 "nbformat_minor": 0
}
