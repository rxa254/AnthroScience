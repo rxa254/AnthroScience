{
 "cells": [
  {
   "cell_type": "markdown",
   "metadata": {},
   "source": [
    "# Human Population Statistics\n",
    "* loads in data from https://ourworldindata.org/world-population-growth/\n",
    "* Matplotlib builtin styles: https://tonysyu.github.io/raw_content/matplotlib-style-gallery/gallery.html"
   ]
  },
  {
   "cell_type": "code",
   "execution_count": null,
   "metadata": {},
   "outputs": [],
   "source": [
    "from __future__ import division\n",
    "%matplotlib inline\n",
    "#import nds2\n",
    "import numpy as np\n",
    "import matplotlib.pyplot as plt\n",
    "plt.style.use('bmh')\n",
    "#import matplotlib.mlab as mlab\n",
    "#import scipy.signal as sig\n",
    "import scipy.constants as const\n",
    "from matplotlib.ticker import StrMethodFormatter, NullFormatter\n",
    "\n",
    "import pandas as pd\n",
    "\n",
    "#from matplotlib import rc\n",
    "#rc('font',**{'family':'sans-serif','sans-serif':['Helvetica']})\n",
    "## for Palatino and other serif fonts use:\n",
    "plt.rcParams['font.family'] = 'Palatino'\n",
    "plt.rcParams['font.size'] = 18\n",
    "plt.rcParams['axes.labelsize'] = plt.rcParams['font.size']\n",
    "plt.rcParams['axes.titlesize'] = 1.5*plt.rcParams['font.size']\n",
    "plt.rcParams['legend.fontsize'] = plt.rcParams['font.size']\n",
    "plt.rcParams['xtick.labelsize'] = plt.rcParams['font.size']\n",
    "plt.rcParams['ytick.labelsize'] = plt.rcParams['font.size']\n",
    "#plt.rcParams['savefig.dpi'] = 2*plt.rcParams['savefig.dpi']\n",
    "#plt.rcParams['xtick.major.size'] = 3\n",
    "#plt.rcParams['xtick.minor.size'] = 3\n",
    "#plt.rcParams['xtick.major.width'] = 1\n",
    "#plt.rcParams['xtick.minor.width'] = 1\n",
    "#plt.rcParams['ytick.major.size'] = 3\n",
    "#plt.rcParams['ytick.minor.size'] = 3\n",
    "#plt.rcParams['ytick.major.width'] = 1\n",
    "#plt.rcParams['ytick.minor.width'] = 1\n",
    "plt.rcParams['legend.loc'] = 'best'\n",
    "#plt.rcParams['axes.linewidth'] = 1\n",
    "plt.rcParams['text.usetex'] = False"
   ]
  },
  {
   "cell_type": "code",
   "execution_count": null,
   "metadata": {},
   "outputs": [],
   "source": [
    "fname = 'Data/WorldPopulationAnnual12000years_interpolated_HYDEandUNto2015.csv'\n",
    "# how to fix the date string so that it has 4 digits for the year?\n",
    "df = pd.read_csv(fname)\n",
    "#df = df.sort_values(by='Date')\n",
    "df.head()"
   ]
  },
  {
   "cell_type": "code",
   "execution_count": null,
   "metadata": {},
   "outputs": [],
   "source": [
    "t = df.iloc[:,0]\n",
    "p = df.iloc[:,1]\n",
    "#df.plot(y='Physical Science', x='Data')\n",
    "fig,ax = plt.subplots(1, figsize=(12,8))\n",
    "ax.semilogy(t, p/1e9, c='xkcd:Indigo', lw=3)\n",
    "ax.set_xlabel('Time [years AD]')\n",
    "ax.set_ylabel('Population [billions]')\n",
    "#ax.yaxis.set_major_formatter(StrMethodFormatter('{x:.2f}'))\n",
    "\n",
    "plt.title(r'Global Population over time')\n",
    "plt.show()"
   ]
  },
  {
   "cell_type": "code",
   "execution_count": null,
   "metadata": {},
   "outputs": [],
   "source": []
  },
  {
   "cell_type": "markdown",
   "metadata": {},
   "source": [
    "    "
   ]
  },
  {
   "cell_type": "code",
   "execution_count": null,
   "metadata": {},
   "outputs": [],
   "source": []
  },
  {
   "cell_type": "code",
   "execution_count": null,
   "metadata": {},
   "outputs": [],
   "source": []
  }
 ],
 "metadata": {
  "anaconda-cloud": {},
  "kernelspec": {
   "display_name": "Python 2",
   "language": "python",
   "name": "python2"
  },
  "language_info": {
   "codemirror_mode": {
    "name": "ipython",
    "version": 2
   },
   "file_extension": ".py",
   "mimetype": "text/x-python",
   "name": "python",
   "nbconvert_exporter": "python",
   "pygments_lexer": "ipython2",
   "version": "2.7.14"
  }
 },
 "nbformat": 4,
 "nbformat_minor": 1
}
